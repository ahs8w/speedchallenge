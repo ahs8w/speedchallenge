{
 "cells": [
  {
   "cell_type": "markdown",
   "metadata": {},
   "source": [
    "**NOTE:**  This notebook was run on a kaggle kernel for the use of the free gpu and openCV library which I didn't care to install locally.\n",
    "\n",
    "This notebook was run as a data pipeline with outputs from here used as inputs for the speed processing notebook"
   ]
  },
  {
   "cell_type": "code",
   "execution_count": 2,
   "metadata": {},
   "outputs": [],
   "source": [
    "import cv2\n",
    "import numpy as np\n",
    "import matplotlib.pyplot as plt\n",
    "import os"
   ]
  },
  {
   "cell_type": "markdown",
   "metadata": {
    "heading_collapsed": true
   },
   "source": [
    "# video to flow video"
   ]
  },
  {
   "cell_type": "code",
   "execution_count": null,
   "metadata": {
    "hidden": true
   },
   "outputs": [],
   "source": [
    "def video_to_flow_video(vid_path, flow_path):\n",
    "    reader = cv2.VideoCapture(vid_path)\n",
    "    writer = cv2.VideoWriter(flow_path, cv2.VideoWriter_fourcc(*'mp4v'), 20.0, (640, 250))\n",
    "    i=0\n",
    "    prv = None\n",
    "\n",
    "    while(True):\n",
    "        ret, frame = reader.read()\n",
    "        if not ret:\n",
    "            print(f\"Can't receive frame: {i} (stream end?).\")\n",
    "            break  # end of video\n",
    "\n",
    "        frame = frame[50:300]  # crop dash and roof\n",
    "        nxt = cv2.cvtColor(frame,cv2.COLOR_BGR2GRAY)\n",
    "\n",
    "        if prv is not None:\n",
    "            flow = cv2.calcOpticalFlowFarneback(prv,nxt, None, 0.5, 3, 15, 3, 5, 1.2, 0)\n",
    "            mag, ang = cv2.cartToPolar(flow[...,0], flow[...,1])\n",
    "\n",
    "            hsv = np.zeros_like(frame)\n",
    "            hsv[...,0] = ang*180/np.pi/2  # set hue\n",
    "            hsv[...,1] = 255  # max saturation\n",
    "            hsv[...,2] = cv2.normalize(mag,None,0,255,cv2.NORM_MINMAX)  # norm values\n",
    "\n",
    "            bgr = cv2.cvtColor(hsv,cv2.COLOR_HSV2BGR)\n",
    "            writer.write(bgr)\n",
    "            #plt.imshow(bgr)\n",
    "\n",
    "            if i%100==0:print('.', end='')\n",
    "\n",
    "        prv = nxt\n",
    "        i+=1\n",
    "\n",
    "    reader.release()\n",
    "    writer.release()"
   ]
  },
  {
   "cell_type": "code",
   "execution_count": null,
   "metadata": {
    "hidden": true
   },
   "outputs": [],
   "source": [
    "# video_to_flow_video(\"/kaggle/input/train.mp4\", \"/kaggle/working/train_flow.mp4\")\n",
    "# video_to_flow_video(\"/kaggle/input/test.mp4\", \"/kaggle/working/test_flow.mp4\")"
   ]
  },
  {
   "cell_type": "markdown",
   "metadata": {},
   "source": [
    "# video to flow frames"
   ]
  },
  {
   "cell_type": "code",
   "execution_count": null,
   "metadata": {},
   "outputs": [],
   "source": [
    "def video_to_flow_images(vid_path, img_path):\n",
    "    if not os.path.exists(img_path): os.makedirs(img_path)\n",
    "\n",
    "    reader = cv2.VideoCapture(vid_path)\n",
    "    i=0\n",
    "    prv = None\n",
    "\n",
    "    while(True):\n",
    "        ret, frame = reader.read()\n",
    "        if not ret:\n",
    "            print(f\"Can't receive frame: {i} (stream end?).\")\n",
    "            break  # end of video\n",
    "\n",
    "        frame = frame[50:300]  # crop dash and roof\n",
    "        nxt = cv2.cvtColor(frame,cv2.COLOR_BGR2GRAY)\n",
    "\n",
    "        if prv is not None:\n",
    "            flow = cv2.calcOpticalFlowFarneback(prv,nxt, None, 0.5, 3, 15, 3, 5, 1.2, 0)\n",
    "            mag, ang = cv2.cartToPolar(flow[...,0], flow[...,1])\n",
    "\n",
    "            hsv = np.zeros_like(frame)\n",
    "            hsv[...,0] = ang*180/np.pi/2  # set hue\n",
    "            hsv[...,1] = 255  # max saturation\n",
    "            hsv[...,2] = cv2.normalize(mag,None,0,255,cv2.NORM_MINMAX)  # norm values\n",
    "\n",
    "            rgb = cv2.cvtColor(hsv,cv2.COLOR_HSV2RGB)\n",
    "            cv2.imwrite(img_path+\"{:05n}\".format(i)+'.png',rgb)\n",
    "\n",
    "            if i%100==0:print('.', end='')\n",
    "\n",
    "        prv = nxt\n",
    "        i+=1\n",
    "        \n",
    "    reader.release()"
   ]
  },
  {
   "cell_type": "code",
   "execution_count": null,
   "metadata": {},
   "outputs": [],
   "source": [
    "video_to_flow_images(\"/kaggle/input/train.mp4\", \"/kaggle/working/train/\")\n",
    "video_to_flow_images(\"/kaggle/input/test.mp4\", \"/kaggle/working/test/\")"
   ]
  }
 ],
 "metadata": {
  "kernelspec": {
   "display_name": "Python 3",
   "language": "python",
   "name": "python3"
  },
  "language_info": {
   "codemirror_mode": {
    "name": "ipython",
    "version": 3
   },
   "file_extension": ".py",
   "mimetype": "text/x-python",
   "name": "python",
   "nbconvert_exporter": "python",
   "pygments_lexer": "ipython3",
   "version": "3.7.6"
  },
  "toc": {
   "base_numbering": 1,
   "nav_menu": {},
   "number_sections": true,
   "sideBar": true,
   "skip_h1_title": false,
   "title_cell": "Table of Contents",
   "title_sidebar": "Contents",
   "toc_cell": false,
   "toc_position": {},
   "toc_section_display": true,
   "toc_window_display": false
  },
  "varInspector": {
   "cols": {
    "lenName": 16,
    "lenType": 16,
    "lenVar": 40
   },
   "kernels_config": {
    "python": {
     "delete_cmd_postfix": "",
     "delete_cmd_prefix": "del ",
     "library": "var_list.py",
     "varRefreshCmd": "print(var_dic_list())"
    },
    "r": {
     "delete_cmd_postfix": ") ",
     "delete_cmd_prefix": "rm(",
     "library": "var_list.r",
     "varRefreshCmd": "cat(var_dic_list()) "
    }
   },
   "types_to_exclude": [
    "module",
    "function",
    "builtin_function_or_method",
    "instance",
    "_Feature"
   ],
   "window_display": false
  }
 },
 "nbformat": 4,
 "nbformat_minor": 4
}
