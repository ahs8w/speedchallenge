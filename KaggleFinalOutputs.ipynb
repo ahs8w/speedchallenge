{
 "cells": [
  {
   "cell_type": "code",
   "execution_count": 1,
   "metadata": {
    "_cell_guid": "79c7e3d0-c299-4dcb-8224-4455121ee9b0",
    "_uuid": "d629ff2d2480ee46fbb7e2d37f6b5fab8052498a"
   },
   "outputs": [],
   "source": [
    "%reload_ext autoreload\n",
    "%autoreload 2\n",
    "%matplotlib inline"
   ]
  },
  {
   "cell_type": "code",
   "execution_count": 2,
   "metadata": {
    "_cell_guid": "79c7e3d0-c299-4dcb-8224-4455121ee9b0",
    "_uuid": "d629ff2d2480ee46fbb7e2d37f6b5fab8052498a"
   },
   "outputs": [],
   "source": [
    "from fastai.vision import *\n",
    "import cv2"
   ]
  },
  {
   "cell_type": "code",
   "execution_count": 3,
   "metadata": {},
   "outputs": [],
   "source": [
    "PATH = Path('../input')\n",
    "OUT_PATH = Path('/kaggle/working')"
   ]
  },
  {
   "cell_type": "markdown",
   "metadata": {},
   "source": [
    "# Data"
   ]
  },
  {
   "cell_type": "code",
   "execution_count": 4,
   "metadata": {},
   "outputs": [],
   "source": [
    "def prepare_data(size='sm'):\n",
    "    \"\"\"Returns trn and tst dataframe with appropriate preparations\"\"\"\n",
    "    \n",
    "    orig = 'origframes'+size\n",
    "    xtra = '2k19frames'+size\n",
    "    \n",
    "    # different datasets\n",
    "    trn = sorted(os.listdir(PATH/orig/'train/'))\n",
    "    tst = sorted(os.listdir(PATH/orig/'test/'))\n",
    "    c92 = sorted(os.listdir(PATH/orig/'c92/'))\n",
    "    c4 = sorted(os.listdir(PATH/xtra/'c4/'))\n",
    "    c9 = sorted(os.listdir(PATH/xtra/'c9/'))\n",
    "    c10 = sorted(os.listdir(PATH/xtra/'c10/'))\n",
    "\n",
    "    # duplicate first images to maintain equality with target arrays\n",
    "    trn = [trn[0]]+trn\n",
    "    tst = [tst[0]]+tst\n",
    "    c4 = [c4[0]]+c4\n",
    "    c9 = [c9[0]]+c9\n",
    "    c10 = [c10[0]]+c10\n",
    "    c92 = [c92[0]]+c92\n",
    "\n",
    "    # speeds\n",
    "    trn_sp = np.loadtxt('../input/speed-texts/train.txt')\n",
    "    c4_sp = np.loadtxt('../input/speed-texts/c4_speeds.txt')\n",
    "    c9_sp = np.loadtxt('../input/speed-texts/c9_speeds.txt')\n",
    "    c10_sp = np.loadtxt('../input/speed-texts/c10_speeds.txt')\n",
    "    c92_sp = np.loadtxt('../input/speed-texts/c9_2_speeds.txt')\n",
    "\n",
    "    # 25fps (2k19) vs 20fps (train) \n",
    "    # for 25fps: distance traveled btw frames should be 20% less (@ same speed) => need to reduce the speeds\n",
    "    for i in [c4_sp,c9_sp,c10_sp,c92_sp]:\n",
    "        i *= 0.8\n",
    "\n",
    "    # prepend folder name to filename\n",
    "    trn = [f'/{orig}/train/'+i for i in trn]\n",
    "    tst = [f'/{orig}/test/'+i for i in tst]\n",
    "    c92 = [f'/{orig}/c92/'+i for i in c92]\n",
    "    c4 =  [f'/{xtra}/c4/'+i for i in c4]\n",
    "    c9 =  [f'/{xtra}/c9/'+i for i in c9]\n",
    "    c10 = [f'/{xtra}/c10/'+i for i in c10]\n",
    "\n",
    "    # create dataframes\n",
    "    fnames = trn+c4+c9+c10+c92\n",
    "    speeds = np.concatenate([trn_sp,c4_sp,c9_sp,c10_sp,c92_sp])\n",
    "    df = DataFrame({'filenames': fnames, 'labels': speeds})\n",
    "    test_df = DataFrame({'filenames': tst})\n",
    "    \n",
    "    # add cross-flow traffic section of test_df into df\n",
    "    cft = test_df[1175:1620].copy()\n",
    "    cft['labels'] = 0.0\n",
    "    \n",
    "    # add highway section of test_df into df\n",
    "    cft2 = test_df[3600:4200].copy()\n",
    "    cft2['labels'] = 25.0\n",
    "\n",
    "    df = pd.concat([df,cft,cft2], ignore_index=True)\n",
    "    return df,test_df"
   ]
  },
  {
   "cell_type": "code",
   "execution_count": 5,
   "metadata": {},
   "outputs": [
    {
     "data": {
      "text/plain": [
       "(72673, 10798)"
      ]
     },
     "execution_count": 5,
     "metadata": {},
     "output_type": "execute_result"
    }
   ],
   "source": [
    "df,test_df = prepare_data()\n",
    "len(df),len(test_df)"
   ]
  },
  {
   "cell_type": "code",
   "execution_count": 6,
   "metadata": {},
   "outputs": [],
   "source": [
    "# suppress annoying scale_factor warnings\n",
    "import warnings\n",
    "warnings.filterwarnings(\"ignore\", category=UserWarning, module=\"torch.nn.functional\")"
   ]
  },
  {
   "cell_type": "code",
   "execution_count": 7,
   "metadata": {},
   "outputs": [],
   "source": [
    "tfms = ([flip_lr(p=0.5,use_on_y=False)],[])"
   ]
  },
  {
   "cell_type": "code",
   "execution_count": 10,
   "metadata": {},
   "outputs": [],
   "source": [
    "def get_data(path,vdx=None,bs=100):\n",
    "    return (ImageList.from_df(df, path)\n",
    "        .split_none()   # calc final results w/ full training set\n",
    "        #.split_by_idx(vdx)\n",
    "        .label_from_df()\n",
    "        .transform(tfms)\n",
    "        .add_test(ImageList.from_df(test_df, path))\n",
    "        .databunch(bs=bs)\n",
    "       )"
   ]
  },
  {
   "cell_type": "code",
   "execution_count": 11,
   "metadata": {},
   "outputs": [],
   "source": [
    "data = get_data(PATH)\n",
    "data.show_batch(5, DatasetType.Train)"
   ]
  },
  {
   "cell_type": "markdown",
   "metadata": {},
   "source": [
    "# Model"
   ]
  },
  {
   "cell_type": "code",
   "execution_count": 13,
   "metadata": {},
   "outputs": [],
   "source": [
    "act_fn = nn.ReLU(inplace=True)\n",
    "\n",
    "class Flatten(Module):\n",
    "    def forward(self, x): return x.view(x.size(0), -1)\n",
    "\n",
    "def init_cnn(m):\n",
    "    if getattr(m, 'bias', None) is not None: nn.init.constant_(m.bias, 0)\n",
    "    if isinstance(m, (nn.Conv2d,nn.Linear)): nn.init.kaiming_normal_(m.weight)\n",
    "    for l in m.children(): init_cnn(l)\n",
    "\n",
    "def conv(ni, nf, ks=3, stride=1, bias=False):\n",
    "    return nn.Conv2d(ni, nf, kernel_size=ks, stride=stride, padding=ks//2, bias=bias)\n",
    "\n",
    "def noop(x): return x\n",
    "\n",
    "def conv_layer(ni, nf, ks=3, stride=1, zero_bn=False, act=True):\n",
    "    bn = nn.BatchNorm2d(nf)\n",
    "    nn.init.constant_(bn.weight, 0. if zero_bn else 1.)\n",
    "    layers = [conv(ni, nf, ks, stride=stride), bn]\n",
    "    if act: layers.append(act_fn)\n",
    "    return nn.Sequential(*layers)\n",
    "\n",
    "class ResBlock(Module):\n",
    "    def __init__(self, expansion, ni, nh, stride=1, drop=0.1):\n",
    "        nf,ni = nh*expansion,ni*expansion\n",
    "        layers  = [conv_layer(ni, nh, 3, stride=stride),\n",
    "                   conv_layer(nh, nf, 3, zero_bn=True, act=False)\n",
    "        ] if expansion == 1 else [\n",
    "                   conv_layer(ni, nh, 1),\n",
    "                   conv_layer(nh, nh, 3, stride=stride),\n",
    "                   conv_layer(nh, nf, 1, zero_bn=True, act=False)\n",
    "        ]\n",
    "        self.convs = nn.Sequential(*layers)\n",
    "        # TODO: check whether act=True works better\n",
    "        self.idconv = noop if ni==nf else conv_layer(ni, nf, 1, act=False)\n",
    "        self.pool = noop if stride==1 else nn.AvgPool2d(stride, ceil_mode=True)\n",
    "        self.drop = nn.Dropout2d(drop)\n",
    "\n",
    "    def forward(self, x): return act_fn(self.drop(self.convs(x) + self.idconv(self.pool(x))))\n",
    "\n",
    "def filt_sz(recep): return min(64, 2**math.floor(math.log2(recep*0.75)))\n",
    "\n",
    "class XResNet(nn.Sequential):\n",
    "    def __init__(self, expansion, layers, c_in=3, c_out=1000, drop=0.1):\n",
    "        stem = []\n",
    "        sizes = [c_in,32,32,64]\n",
    "        for i in range(3):\n",
    "            stem.append(conv_layer(sizes[i], sizes[i+1], stride=2 if i==0 else 1))\n",
    "            #nf = filt_sz(c_in*9)\n",
    "            #stem.append(conv_layer(c_in, nf, stride=2 if i==1 else 1))\n",
    "            #c_in = nf\n",
    "\n",
    "        block_szs = [64//expansion,64,128,256,512] +[256]*(len(layers)-4)\n",
    "        blocks = [self._make_layer(expansion, block_szs[i], block_szs[i+1], l, 1 if i==0 else 2, drop)\n",
    "                  for i,l in enumerate(layers)]\n",
    "        super().__init__(\n",
    "            *stem,\n",
    "            nn.MaxPool2d(kernel_size=3, stride=2, padding=1),\n",
    "            *blocks,\n",
    "            nn.AdaptiveAvgPool2d(1), Flatten(),\n",
    "            nn.Linear(block_szs[-1]*expansion, c_out),\n",
    "        )\n",
    "        init_cnn(self)\n",
    "\n",
    "    def _make_layer(self, expansion, ni, nf, blocks, stride, drop):\n",
    "        return nn.Sequential(\n",
    "            *[ResBlock(expansion, ni if i==0 else nf, nf, stride if i==0 else 1, drop)\n",
    "              for i in range(blocks)])\n",
    "\n",
    "def xresnet(expansion, n_layers, name, c_out=1000, pretrained=False, **kwargs):\n",
    "    model = XResNet(expansion, n_layers, c_out=c_out, **kwargs)\n",
    "    if pretrained: model.load_state_dict(model_zoo.load_url(model_urls[name]))\n",
    "    return model"
   ]
  },
  {
   "cell_type": "code",
   "execution_count": 14,
   "metadata": {},
   "outputs": [],
   "source": [
    "model = partial(xresnet, expansion=1, n_layers=[2,2,2,2,1,1], name='xresnet18_deep')  # w/ added dropout\n",
    "# model = partial(xresnet, expansion=1, n_layers=[3,4,6,3,1,1], name='xresnet34_deep')\n",
    "\n",
    "class Model(Module):\n",
    "    def __init__(self):\n",
    "        self.cnn = model(c_out=1, drop=0.3)\n",
    "        \n",
    "    def forward(self, x):\n",
    "        x = self.cnn(x)\n",
    "        return torch.clamp(x,0,30)"
   ]
  },
  {
   "cell_type": "markdown",
   "metadata": {},
   "source": [
    "# Training"
   ]
  },
  {
   "cell_type": "code",
   "execution_count": 19,
   "metadata": {},
   "outputs": [
    {
     "data": {
      "text/html": [
       "\n",
       "    <div>\n",
       "        <style>\n",
       "            /* Turns off some styling */\n",
       "            progress {\n",
       "                /* gets rid of default border in Firefox and Opera. */\n",
       "                border: none;\n",
       "                /* Needs to be in here for Safari polyfill so background images work as expected. */\n",
       "                background-size: auto;\n",
       "            }\n",
       "            .progress-bar-interrupted, .progress-bar-interrupted::-webkit-progress-bar {\n",
       "                background: #F44336;\n",
       "            }\n",
       "        </style>\n",
       "      <progress value='8' class='' max='10' style='width:300px; height:20px; vertical-align: middle;'></progress>\n",
       "      80.00% [8/10 12:29<03:07]\n",
       "    </div>\n",
       "    \n",
       "<table border=\"1\" class=\"dataframe\">\n",
       "  <thead>\n",
       "    <tr style=\"text-align: left;\">\n",
       "      <th>epoch</th>\n",
       "      <th>train_loss</th>\n",
       "      <th>valid_loss</th>\n",
       "      <th>time</th>\n",
       "    </tr>\n",
       "  </thead>\n",
       "  <tbody>\n",
       "    <tr>\n",
       "      <td>0</td>\n",
       "      <td>15.631994</td>\n",
       "      <td>#na#</td>\n",
       "      <td>02:31</td>\n",
       "    </tr>\n",
       "    <tr>\n",
       "      <td>1</td>\n",
       "      <td>10.968797</td>\n",
       "      <td>#na#</td>\n",
       "      <td>01:24</td>\n",
       "    </tr>\n",
       "    <tr>\n",
       "      <td>2</td>\n",
       "      <td>7.769820</td>\n",
       "      <td>#na#</td>\n",
       "      <td>01:24</td>\n",
       "    </tr>\n",
       "    <tr>\n",
       "      <td>3</td>\n",
       "      <td>6.575270</td>\n",
       "      <td>#na#</td>\n",
       "      <td>01:26</td>\n",
       "    </tr>\n",
       "    <tr>\n",
       "      <td>4</td>\n",
       "      <td>6.299894</td>\n",
       "      <td>#na#</td>\n",
       "      <td>01:26</td>\n",
       "    </tr>\n",
       "    <tr>\n",
       "      <td>5</td>\n",
       "      <td>4.815829</td>\n",
       "      <td>#na#</td>\n",
       "      <td>01:24</td>\n",
       "    </tr>\n",
       "    <tr>\n",
       "      <td>6</td>\n",
       "      <td>3.986796</td>\n",
       "      <td>#na#</td>\n",
       "      <td>01:25</td>\n",
       "    </tr>\n",
       "    <tr>\n",
       "      <td>7</td>\n",
       "      <td>3.349729</td>\n",
       "      <td>#na#</td>\n",
       "      <td>01:25</td>\n",
       "    </tr>\n",
       "  </tbody>\n",
       "</table><p>\n",
       "\n",
       "    <div>\n",
       "        <style>\n",
       "            /* Turns off some styling */\n",
       "            progress {\n",
       "                /* gets rid of default border in Firefox and Opera. */\n",
       "                border: none;\n",
       "                /* Needs to be in here for Safari polyfill so background images work as expected. */\n",
       "                background-size: auto;\n",
       "            }\n",
       "            .progress-bar-interrupted, .progress-bar-interrupted::-webkit-progress-bar {\n",
       "                background: #F44336;\n",
       "            }\n",
       "        </style>\n",
       "      <progress value='364' class='' max='726' style='width:300px; height:20px; vertical-align: middle;'></progress>\n",
       "      50.14% [364/726 00:43<00:43 3.0258]\n",
       "    </div>\n",
       "    "
      ],
      "text/plain": [
       "<IPython.core.display.HTML object>"
      ]
     },
     "metadata": {},
     "output_type": "display_data"
    }
   ],
   "source": [
    "learn = Learner(data, Model(), loss_func=MSELossFlat(), path=OUT_PATH)\n",
    "learn.fit_one_cycle(10, 1e-2)\n",
    "# learn.fit(5, 1e-2) #; validation set: first/last 2000 of orig. train frames\n",
    "\n",
    "# bs=100\n",
    "# 4\t0.845956\t7.570271\t00:25  original training set only\n",
    "# 4\t0.625646\t7.289826\t01:26  include 2k19 vids  (much higher test plot!!)  **\n",
    "# 4\t5.969658\t9.487709\t01:17  custom arch w/ dropout max 128 ch.\n",
    "# 4\t3.434698\t6.231866\t01:23  xresnet18_deep w/ dropout(0.2) after every ResBlock\n",
    "# 4\t2.026669\t7.715620\t01:22  xresnet18_deep w/ dropout(0.1) after every conv_layer\n",
    "# 4\t6.193273\t7.183534\t01:21  xresnet18_deep w/ dropout(0.5) after every ResBlock\n",
    "# 4\t4.633294\t6.031477\t01:21  \"\", 5cycles\n",
    "\n",
    "# new data\n",
    "# 4\t5.615742\t7.383484\t01:21  xresnet18_deep w/ dropout(0.5) after every ResBlock\n",
    "# 4\t8.463151\t12.401779\t01:31  resnet34_deep \"\"\n",
    "# 4\t4.521659\t6.734974\t01:21  xresnet18_deep w/ dropout(0.4)\n",
    "# 9\t3.401432\t6.263545\t01:20  10cycle \"\"\n",
    "# 4\t6.728229\t8.715267\t01:26  xresnet18_deep w/ dropout(0.4) (no *.8)\n",
    "# 4\t4.781599\t#na#    \t01:26  xresnet18_deep w/ dropout(0.4), no validation split\n",
    "\n",
    "# 4\t4.014086\t5.665481\t01:24  xresnet18_deep w/ dropout(0.3)\n",
    "# 4\t4.174629\t6.810672\t01:25  \"\", wd=0.1\n",
    "# 4\t4.030526\t6.275918\t01:25  \"\", wd=.05\n",
    "# 4\t2.260775\t6.336450\t01:25  xresnet18_deep w/ dropout(0.1), wd=0.1\n",
    "# 4\t5.506297\t7.539432\t01:23  xresnet18_deep w/ dropout(0.3); fit_one_cycle(5,1e-1)\n",
    "\n",
    "# sm\n",
    "# 4\t3.863745\t#na#\t01:25  xresnet18_deep w/ dropout(0.3), split_none()\n",
    "# 9\t2.787500\t#na#\t01:23  \"\""
   ]
  },
  {
   "cell_type": "code",
   "execution_count": 20,
   "metadata": {},
   "outputs": [
    {
     "data": {
      "text/html": [
       "\n",
       "    <div>\n",
       "        <style>\n",
       "            /* Turns off some styling */\n",
       "            progress {\n",
       "                /* gets rid of default border in Firefox and Opera. */\n",
       "                border: none;\n",
       "                /* Needs to be in here for Safari polyfill so background images work as expected. */\n",
       "                background-size: auto;\n",
       "            }\n",
       "            .progress-bar-interrupted, .progress-bar-interrupted::-webkit-progress-bar {\n",
       "                background: #F44336;\n",
       "            }\n",
       "        </style>\n",
       "      <progress value='8' class='' max='10' style='width:300px; height:20px; vertical-align: middle;'></progress>\n",
       "      80.00% [8/10 24:56<06:14]\n",
       "    </div>\n",
       "    \n",
       "<table border=\"1\" class=\"dataframe\">\n",
       "  <thead>\n",
       "    <tr style=\"text-align: left;\">\n",
       "      <th>epoch</th>\n",
       "      <th>train_loss</th>\n",
       "      <th>valid_loss</th>\n",
       "      <th>time</th>\n",
       "    </tr>\n",
       "  </thead>\n",
       "  <tbody>\n",
       "    <tr>\n",
       "      <td>0</td>\n",
       "      <td>6.147611</td>\n",
       "      <td>#na#</td>\n",
       "      <td>03:53</td>\n",
       "    </tr>\n",
       "    <tr>\n",
       "      <td>1</td>\n",
       "      <td>5.605270</td>\n",
       "      <td>#na#</td>\n",
       "      <td>02:59</td>\n",
       "    </tr>\n",
       "    <tr>\n",
       "      <td>2</td>\n",
       "      <td>5.560134</td>\n",
       "      <td>#na#</td>\n",
       "      <td>03:00</td>\n",
       "    </tr>\n",
       "    <tr>\n",
       "      <td>3</td>\n",
       "      <td>4.710346</td>\n",
       "      <td>#na#</td>\n",
       "      <td>03:00</td>\n",
       "    </tr>\n",
       "    <tr>\n",
       "      <td>4</td>\n",
       "      <td>4.154207</td>\n",
       "      <td>#na#</td>\n",
       "      <td>03:00</td>\n",
       "    </tr>\n",
       "    <tr>\n",
       "      <td>5</td>\n",
       "      <td>3.779912</td>\n",
       "      <td>#na#</td>\n",
       "      <td>03:00</td>\n",
       "    </tr>\n",
       "    <tr>\n",
       "      <td>6</td>\n",
       "      <td>2.702076</td>\n",
       "      <td>#na#</td>\n",
       "      <td>03:00</td>\n",
       "    </tr>\n",
       "    <tr>\n",
       "      <td>7</td>\n",
       "      <td>2.394146</td>\n",
       "      <td>#na#</td>\n",
       "      <td>03:00</td>\n",
       "    </tr>\n",
       "  </tbody>\n",
       "</table><p>\n",
       "\n",
       "    <div>\n",
       "        <style>\n",
       "            /* Turns off some styling */\n",
       "            progress {\n",
       "                /* gets rid of default border in Firefox and Opera. */\n",
       "                border: none;\n",
       "                /* Needs to be in here for Safari polyfill so background images work as expected. */\n",
       "                background-size: auto;\n",
       "            }\n",
       "            .progress-bar-interrupted, .progress-bar-interrupted::-webkit-progress-bar {\n",
       "                background: #F44336;\n",
       "            }\n",
       "        </style>\n",
       "      <progress value='180' class='' max='726' style='width:300px; height:20px; vertical-align: middle;'></progress>\n",
       "      24.79% [180/726 00:45<02:19 2.1521]\n",
       "    </div>\n",
       "    "
      ],
      "text/plain": [
       "<IPython.core.display.HTML object>"
      ]
     },
     "metadata": {},
     "output_type": "display_data"
    }
   ],
   "source": [
    "# increase size\n",
    "df,test_df = prepare_data(size='md')\n",
    "learn.data = get_data(PATH)\n",
    "\n",
    "learn.fit_one_cycle(10, 1e-2)\n",
    "# 4\t3.107795\t#na#\t02:55  xresnet18_deep w/ dropout(0.3); split_none()\n",
    "# 9\t1.954047\t#na#\t02:53  \"\""
   ]
  },
  {
   "cell_type": "code",
   "execution_count": 21,
   "metadata": {},
   "outputs": [],
   "source": [
    "learn.save('model')"
   ]
  },
  {
   "cell_type": "code",
   "execution_count": 22,
   "metadata": {},
   "outputs": [
    {
     "data": {
      "text/html": [],
      "text/plain": [
       "<IPython.core.display.HTML object>"
      ]
     },
     "metadata": {},
     "output_type": "display_data"
    },
    {
     "data": {
      "image/png": "[encoded data removed]",
      "text/plain": [
       "<Figure size 1296x360 with 1 Axes>"
      ]
     },
     "metadata": {
      "needs_background": "light"
     },
     "output_type": "display_data"
    }
   ],
   "source": [
    "t_preds,_ = learn.get_preds(ds_type=DatasetType.Test)\n",
    "\n",
    "plt.figure(figsize=(18,5))\n",
    "plt.plot(t_preds.squeeze()); None"
   ]
  },
  {
   "cell_type": "code",
   "execution_count": 27,
   "metadata": {},
   "outputs": [],
   "source": [
    "t_df = pd.DataFrame(t_preds.numpy())\n",
    "t_df.to_csv(OUT_PATH/'test_preds.csv', index=False)"
   ]
  }
 ],
 "metadata": {
  "kernelspec": {
   "display_name": "Python 3",
   "language": "python",
   "name": "python3"
  },
  "language_info": {
   "codemirror_mode": {
    "name": "ipython",
    "version": 3
   },
   "file_extension": ".py",
   "mimetype": "text/x-python",
   "name": "python",
   "nbconvert_exporter": "python",
   "pygments_lexer": "ipython3",
   "version": "3.7.6"
  },
  "toc": {
   "base_numbering": 1,
   "nav_menu": {},
   "number_sections": true,
   "sideBar": true,
   "skip_h1_title": false,
   "title_cell": "Table of Contents",
   "title_sidebar": "Contents",
   "toc_cell": false,
   "toc_position": {},
   "toc_section_display": true,
   "toc_window_display": false
  },
  "varInspector": {
   "cols": {
    "lenName": 16,
    "lenType": 16,
    "lenVar": 40
   },
   "kernels_config": {
    "python": {
     "delete_cmd_postfix": "",
     "delete_cmd_prefix": "del ",
     "library": "var_list.py",
     "varRefreshCmd": "print(var_dic_list())"
    },
    "r": {
     "delete_cmd_postfix": ") ",
     "delete_cmd_prefix": "rm(",
     "library": "var_list.r",
     "varRefreshCmd": "cat(var_dic_list()) "
    }
   },
   "types_to_exclude": [
    "module",
    "function",
    "builtin_function_or_method",
    "instance",
    "_Feature"
   ],
   "window_display": false
  }
 },
 "nbformat": 4,
 "nbformat_minor": 4
}
