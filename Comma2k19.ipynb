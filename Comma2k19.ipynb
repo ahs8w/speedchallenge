{
 "cells": [
  {
   "cell_type": "code",
   "execution_count": null,
   "metadata": {},
   "outputs": [],
   "source": [
    "# convert video to images by framerate (-r)\n",
    "# ffmpeg -i train.mp4 -r 20 images/output_%05d.png"
   ]
  },
  {
   "cell_type": "code",
   "execution_count": 1,
   "metadata": {},
   "outputs": [],
   "source": [
    "import os\n",
    "import numpy as np\n",
    "import matplotlib.pyplot as plt\n",
    "%matplotlib inline"
   ]
  },
  {
   "cell_type": "code",
   "execution_count": 2,
   "metadata": {},
   "outputs": [],
   "source": [
    "from pathlib import Path"
   ]
  },
  {
   "cell_type": "code",
   "execution_count": 3,
   "metadata": {},
   "outputs": [],
   "source": [
    "PATH = Path('../data/comma2k19/comma2k19')"
   ]
  },
  {
   "cell_type": "code",
   "execution_count": 5,
   "metadata": {},
   "outputs": [
    {
     "name": "stdout",
     "output_type": "stream",
     "text": [
      "\u001b[34m2018-10-14--14-06-44\u001b[m\u001b[m \u001b[34m2018-10-15--14-39-02\u001b[m\u001b[m \u001b[34m2018-10-28--10-45-34\u001b[m\u001b[m\r\n",
      "\u001b[34m2018-10-15--08-45-15\u001b[m\u001b[m \u001b[34m2018-10-16--10-13-38\u001b[m\u001b[m \u001b[34m2018-10-28--11-13-03\u001b[m\u001b[m\r\n",
      "\u001b[34m2018-10-15--13-41-14\u001b[m\u001b[m \u001b[34m2018-10-17--10-24-00\u001b[m\u001b[m \u001b[34m2018-10-30--13-54-09\u001b[m\u001b[m\r\n",
      "\u001b[34m2018-10-15--13-43-11\u001b[m\u001b[m \u001b[34m2018-10-25--13-21-14\u001b[m\u001b[m \u001b[34m2018-11-04--08-49-46\u001b[m\u001b[m\r\n"
     ]
    }
   ],
   "source": [
    "# rename 's/^99c94dc769b5d96e\\|//' *  # remove car tag| from in front of folder names\n",
    "# b0c9d2329ad1606b -> tag for chunks 1&2 (rav4)\n",
    "\n",
    "chunk = PATH/'Chunk_9'\n",
    "!ls {chunk}"
   ]
  },
  {
   "cell_type": "code",
   "execution_count": 6,
   "metadata": {},
   "outputs": [
    {
     "data": {
      "text/plain": [
       "['.DS_Store',\n",
       " '2018-10-14--14-06-44',\n",
       " '2018-10-15--08-45-15',\n",
       " '2018-10-15--13-41-14',\n",
       " '2018-10-15--13-43-11',\n",
       " '2018-10-15--14-39-02',\n",
       " '2018-10-16--10-13-38',\n",
       " '2018-10-17--10-24-00',\n",
       " '2018-10-25--13-21-14',\n",
       " '2018-10-28--10-45-34',\n",
       " '2018-10-28--11-13-03',\n",
       " '2018-10-30--13-54-09',\n",
       " '2018-11-04--08-49-46']"
      ]
     },
     "execution_count": 6,
     "metadata": {},
     "output_type": "execute_result"
    }
   ],
   "source": [
    "dirs = sorted(os.listdir(chunk))\n",
    "dirs"
   ]
  },
  {
   "cell_type": "code",
   "execution_count": 6,
   "metadata": {},
   "outputs": [],
   "source": [
    "def go_home():\n",
    "    %cd ~/Projects/DeepLearning/"
   ]
  },
  {
   "cell_type": "code",
   "execution_count": 6,
   "metadata": {
    "scrolled": true
   },
   "outputs": [
    {
     "name": "stdout",
     "output_type": "stream",
     "text": [
      "/Users/adamschiller/Projects/DeepLearning\n"
     ]
    }
   ],
   "source": [
    "go_home()"
   ]
  },
  {
   "cell_type": "code",
   "execution_count": 16,
   "metadata": {
    "scrolled": false
   },
   "outputs": [
    {
     "name": "stdout",
     "output_type": "stream",
     "text": [
      "/Users/adamschiller/Projects/DeepLearning\r\n"
     ]
    }
   ],
   "source": [
    "!pwd"
   ]
  },
  {
   "cell_type": "code",
   "execution_count": 23,
   "metadata": {},
   "outputs": [],
   "source": [
    "def folders(path):\n",
    "    return sorted([int(i) for i in os.listdir(path) if i.isdigit()])   # sort and return only numerical folders\n",
    "#     return sorted(next(os.walk(path))[1])   # only look at directories"
   ]
  },
  {
   "cell_type": "code",
   "execution_count": 24,
   "metadata": {},
   "outputs": [
    {
     "data": {
      "text/plain": [
       "[33, 34, 35, 36, 37, 38, 39, 40, 41, 42]"
      ]
     },
     "execution_count": 24,
     "metadata": {},
     "output_type": "execute_result"
    }
   ],
   "source": [
    "folders(chunk/dirs[7])"
   ]
  },
  {
   "cell_type": "code",
   "execution_count": 8,
   "metadata": {},
   "outputs": [],
   "source": [
    "def hevcs_to_mp4(path):\n",
    "    try:\n",
    "        %cd {path}\n",
    "        if 'output.mp4' not in os.listdir('.'):\n",
    "            #!for f in ./*/video.hevc; do echo \"file '$f'\" >> mylist.txt; done   # not sorted...\n",
    "            !for f in `ls | sort -n`; do echo \"file './$f/video.hevc'\" >> mylist.txt; done  # sorted by number\n",
    "            !ffmpeg -f concat -safe 0 -i mylist.txt -c copy output.hevc\n",
    "            !ffmpeg -i output.hevc -r 20 -vf scale=640:480 output.mp4\n",
    "            !rm output.hevc\n",
    "            !rm mylist.txt\n",
    "    finally:\n",
    "        go_home()"
   ]
  },
  {
   "cell_type": "code",
   "execution_count": 12,
   "metadata": {},
   "outputs": [],
   "source": [
    "def speeds(path):\n",
    "    xs,ys = [],[]  \n",
    "    for i in folders(path):\n",
    "        # 20 Hz - rav4\n",
    "        # 25 Hx - civic\n",
    "        xs.append(np.load(path/str(i)/'global_pose/frame_times'))\n",
    "        ys.append(np.linalg.norm(np.load(path/str(i)/'global_pose/frame_velocities'),axis=1))\n",
    "        \n",
    "        # ~83 Hx - rav4\n",
    "        #xs.append(np.load(path/str(i)/'processed_log/CAN/speed/t'))\n",
    "        #ys.append(np.load(path/str(i)/'processed_log/CAN/speed/value'))\n",
    "    xs = np.concatenate(xs)\n",
    "    ys = np.concatenate(ys)\n",
    "    return xs, ys.flatten()"
   ]
  },
  {
   "cell_type": "code",
   "execution_count": null,
   "metadata": {},
   "outputs": [],
   "source": [
    "i = 6\n",
    "path = chunk/dirs[i]\n",
    "\n",
    "hevcs_to_mp4(path)\n",
    "!ls {path}"
   ]
  },
  {
   "cell_type": "code",
   "execution_count": null,
   "metadata": {},
   "outputs": [],
   "source": []
  },
  {
   "cell_type": "code",
   "execution_count": 30,
   "metadata": {},
   "outputs": [],
   "source": [
    "x,y = speeds(chunk/dirs[-2])"
   ]
  },
  {
   "cell_type": "code",
   "execution_count": 33,
   "metadata": {},
   "outputs": [
    {
     "data": {
      "text/plain": [
       "10.4"
      ]
     },
     "execution_count": 33,
     "metadata": {},
     "output_type": "execute_result"
    }
   ],
   "source": [
    "len(y)/25/60"
   ]
  },
  {
   "cell_type": "code",
   "execution_count": 39,
   "metadata": {},
   "outputs": [],
   "source": [
    "np.savetxt('c10_speeds.txt', y, fmt='%.6f')"
   ]
  },
  {
   "cell_type": "code",
   "execution_count": 57,
   "metadata": {},
   "outputs": [],
   "source": [
    "def convert_fps(x, diff=5):\n",
    "    # orig - diff = out   # 25fps => 20fps : diff=5\n",
    "    return np.delete(x, slice(None,None,diff))"
   ]
  },
  {
   "cell_type": "code",
   "execution_count": 58,
   "metadata": {},
   "outputs": [
    {
     "data": {
      "text/plain": [
       "4800"
      ]
     },
     "execution_count": 58,
     "metadata": {},
     "output_type": "execute_result"
    }
   ],
   "source": [
    "x = convert_fps(x)\n",
    "y = convert_fps(y)\n",
    "len(y)"
   ]
  },
  {
   "cell_type": "code",
   "execution_count": 43,
   "metadata": {},
   "outputs": [
    {
     "data": {
      "text/plain": [
       "[<matplotlib.lines.Line2D at 0x7fc1abcdf550>]"
      ]
     },
     "execution_count": 43,
     "metadata": {},
     "output_type": "execute_result"
    },
    {
     "data": {
      "image/png": "[encoded data removed]",
      "text/plain": [
       "<Figure size 432x288 with 1 Axes>"
      ]
     },
     "metadata": {
      "needs_background": "light"
     },
     "output_type": "display_data"
    }
   ],
   "source": [
    "plt.plot(y)"
   ]
  },
  {
   "cell_type": "code",
   "execution_count": 7,
   "metadata": {},
   "outputs": [],
   "source": [
    "## convert hevc to mp4 and then concatenate\n",
    "# def save_mp4s(path):\n",
    "#     for i,num in enumerate(folders(path)):\n",
    "#         name = f'video_{i}.mp4'\n",
    "#         !ffmpeg -i {str(path/str(num)/'video.hevc')} -r '20' {str(path/name)}\n",
    "\n",
    "# def concat_mp4s(path):\n",
    "#     %cd {path}\n",
    "#     !for f in ./video_*.mp4; do echo \"file '$f'\" >> mylist.txt; done\n",
    "#     !ffmpeg -f concat -safe 0 -i mylist.txt -c copy output.mp4\n",
    "#     !rm video_*.mp4\n",
    "#     !rm mylist.txt\n",
    "#     go_home()"
   ]
  },
  {
   "cell_type": "markdown",
   "metadata": {},
   "source": [
    "# bash script"
   ]
  },
  {
   "cell_type": "code",
   "execution_count": null,
   "metadata": {},
   "outputs": [],
   "source": [
    "# #!/bin/bash\n",
    "\n",
    "# cd $1\n",
    "\n",
    "# if [[ -f output.mp4 ]]; then\n",
    "#     echo \"output.mp4 exists on your filesystem.\"\n",
    "# else\n",
    "#     for f in `ls | sort -n`; do echo \"file './$f/video.hevc'\" >> mylist.txt; done\n",
    "#     ffmpeg -f concat -safe 0 -i mylist.txt -c copy output.hevc\n",
    "#     ffmpeg -i output.hevc -crf 15 -vf scale=640:480 output.mp4\n",
    "#     rm output.hevc\n",
    "#     rm mylist.txt\n",
    "#     echo \"output.mp4 created.\"\n",
    "# fi\n",
    "\n",
    "# cd .."
   ]
  },
  {
   "cell_type": "code",
   "execution_count": null,
   "metadata": {},
   "outputs": [],
   "source": [
    "# chmod 0700 video_script.sh\n",
    "# for f in *; do ../video_script.sh $f; done    # NOTE: video_script.sh is in the parent (chunk) directory"
   ]
  },
  {
   "cell_type": "code",
   "execution_count": null,
   "metadata": {},
   "outputs": [],
   "source": []
  }
 ],
 "metadata": {
  "kernelspec": {
   "display_name": "Python [conda env:pytorch_1.4] *",
   "language": "python",
   "name": "conda-env-pytorch_1.4-py"
  },
  "language_info": {
   "codemirror_mode": {
    "name": "ipython",
    "version": 3
   },
   "file_extension": ".py",
   "mimetype": "text/x-python",
   "name": "python",
   "nbconvert_exporter": "python",
   "pygments_lexer": "ipython3",
   "version": "3.7.6"
  },
  "toc": {
   "base_numbering": 1,
   "nav_menu": {},
   "number_sections": true,
   "sideBar": true,
   "skip_h1_title": false,
   "title_cell": "Table of Contents",
   "title_sidebar": "Contents",
   "toc_cell": false,
   "toc_position": {},
   "toc_section_display": true,
   "toc_window_display": false
  },
  "varInspector": {
   "cols": {
    "lenName": 16,
    "lenType": 16,
    "lenVar": 40
   },
   "kernels_config": {
    "python": {
     "delete_cmd_postfix": "",
     "delete_cmd_prefix": "del ",
     "library": "var_list.py",
     "varRefreshCmd": "print(var_dic_list())"
    },
    "r": {
     "delete_cmd_postfix": ") ",
     "delete_cmd_prefix": "rm(",
     "library": "var_list.r",
     "varRefreshCmd": "cat(var_dic_list()) "
    }
   },
   "types_to_exclude": [
    "module",
    "function",
    "builtin_function_or_method",
    "instance",
    "_Feature"
   ],
   "window_display": false
  }
 },
 "nbformat": 4,
 "nbformat_minor": 4
}
